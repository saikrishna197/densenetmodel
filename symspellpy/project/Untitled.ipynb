{
 "cells": [
  {
   "cell_type": "code",
   "execution_count": 3,
   "metadata": {},
   "outputs": [
    {
     "name": "stdout",
     "output_type": "stream",
     "text": [
      "Collecting symspellpy\n",
      "  Downloading https://files.pythonhosted.org/packages/83/78/7c827a713ebc0c12d837751a2a8da57340115991fc5b6dcc9a808056dcb0/symspellpy-6.5.1-py3-none-any.whl\n",
      "Collecting numpy>=1.13.1 (from symspellpy)\n",
      "  Downloading https://files.pythonhosted.org/packages/e9/dd/a177f27765b1e5f94fa879cbeef61f8807086371d0b6aa232b836d38b78b/numpy-1.17.3-cp37-cp37m-win_amd64.whl (12.7MB)\n",
      "Installing collected packages: numpy, symspellpy\n",
      "  Found existing installation: numpy 1.16.2\n",
      "    Uninstalling numpy-1.16.2:\n",
      "      Successfully uninstalled numpy-1.16.2\n",
      "Successfully installed numpy-1.17.3 symspellpy-6.5.1\n"
     ]
    },
    {
     "name": "stderr",
     "output_type": "stream",
     "text": [
      "Cache entry deserialization failed, entry ignored\n",
      "You are using pip version 9.0.0, however version 19.2.3 is available.\n",
      "You should consider upgrading via the 'python -m pip install --upgrade pip' command.\n"
     ]
    }
   ],
   "source": [
    "!pip install -U symspellpy"
   ]
  },
  {
   "cell_type": "code",
   "execution_count": 4,
   "metadata": {},
   "outputs": [
    {
     "name": "stdout",
     "output_type": "stream",
     "text": [
      "abc 4\n",
      "def 2\n",
      "abc'def 1\n",
      "qwe 1\n",
      "qwe1 1\n",
      "1qwe 1\n",
      "q1we 1\n",
      "1234 2\n"
     ]
    }
   ],
   "source": [
    "import os\n",
    "\n",
    "from symspellpy.symspellpy import SymSpell  # import the module\n",
    "\n",
    "def main():\n",
    "    # maximum edit distance per dictionary precalculation\n",
    "    max_edit_distance_dictionary = 2\n",
    "    prefix_length = 7\n",
    "    # create object\n",
    "    sym_spell = SymSpell(max_edit_distance_dictionary, prefix_length)\n",
    "    \n",
    "    # create dictionary using corpus.txt\n",
    "    if not sym_spell.create_dictionary(r\"C:\\Users\\Sai Krishna\\Downloads\\symspellpy\\project\\Corpus.txt\"):\n",
    "        print(\"Corpus file not found\")\n",
    "        return\n",
    "\n",
    "    for key, count in sym_spell.words.items():\n",
    "        print(\"{} {}\".format(key, count))\n",
    "\n",
    "if __name__ == \"__main__\":\n",
    "    main()"
   ]
  },
  {
   "cell_type": "code",
   "execution_count": 5,
   "metadata": {},
   "outputs": [
    {
     "name": "stdout",
     "output_type": "stream",
     "text": [
      "Dictionary file not found\n"
     ]
    }
   ],
   "source": [
    "import pkg_resources\n",
    "\n",
    "from symspellpy.symspellpy import SymSpell, Verbosity  # import the module\n",
    "\n",
    "def main():\n",
    "    # maximum edit distance per dictionary precalculation\n",
    "    max_edit_distance_dictionary = 2\n",
    "    prefix_length = 7\n",
    "    # create object\n",
    "    sym_spell = SymSpell(max_edit_distance_dictionary, prefix_length)\n",
    "    # load dictionary\n",
    "    dictionary_path = pkg_resources.resource_filename(\n",
    "        \"symspellpy\", \"frequency_dictionary_en_82_765.txt\")\n",
    "    bigram_path = pkg_resources.resource_filename(\n",
    "        \"symspellpy\", \"frequency_bigramdictionary_en_243_342.txt\")\n",
    "    # term_index is the column of the term and count_index is the\n",
    "    # column of the term frequency\n",
    "    if not sym_spell.load_dictionary(dictionary_path, term_index=0,\n",
    "                                     count_index=1):\n",
    "        print(\"Dictionary file not found\")\n",
    "        return\n",
    "    if not sym_spell.load_bigram_dictionary(bigram_path, term_index=0,\n",
    "                                            count_index=2):\n",
    "        print(\"Bigram dictionary file not found\")\n",
    "        return\n",
    "\n",
    "    # lookup suggestions for single-word input strings\n",
    "    input_term = \"memebers\"  # misspelling of \"members\"\n",
    "    # max edit distance per lookup\n",
    "    # (max_edit_distance_lookup <= max_edit_distance_dictionary)\n",
    "    max_edit_distance_lookup = 2\n",
    "    suggestion_verbosity = Verbosity.CLOSEST  # TOP, CLOSEST, ALL\n",
    "    suggestions = sym_spell.lookup(input_term, suggestion_verbosity,\n",
    "                                   max_edit_distance_lookup)\n",
    "    # display suggestion term, term frequency, and edit distance\n",
    "    for suggestion in suggestions:\n",
    "        print(\"{}, {}, {}\".format(suggestion.term, suggestion.distance,\n",
    "                                  suggestion.count))\n",
    "\n",
    "    # lookup suggestions for multi-word input strings (supports compound\n",
    "    # splitting & merging)\n",
    "    input_term = (\"whereis th elove hehad dated forImuch of thepast who \"\n",
    "                  \"couqdn'tread in sixtgrade and ins pired him\")\n",
    "    # max edit distance per lookup (per single word, not per whole input string)\n",
    "    max_edit_distance_lookup = 2\n",
    "    suggestions = sym_spell.lookup_compound(input_term,\n",
    "                                            max_edit_distance_lookup)\n",
    "    # display suggestion term, edit distance, and term frequency\n",
    "    for suggestion in suggestions:\n",
    "        print(\"{}, {}, {}\".format(suggestion.term, suggestion.distance,\n",
    "                                  suggestion.count))\n",
    "\n",
    "if __name__ == \"__main__\":\n",
    "    main()"
   ]
  },
  {
   "cell_type": "code",
   "execution_count": 6,
   "metadata": {},
   "outputs": [
    {
     "name": "stdout",
     "output_type": "stream",
     "text": [
      "Collecting hunspell\n",
      "  Downloading https://files.pythonhosted.org/packages/e5/fe/cfc4dfd92c3a37c34d2806d5b84f9981bf3520db20149f8ee1a61f6fc69d/hunspell-0.5.5.tar.gz\n",
      "Building wheels for collected packages: hunspell\n",
      "  Running setup.py bdist_wheel for hunspell: started\n",
      "  Running setup.py bdist_wheel for hunspell: finished with status 'error'\n",
      "  Complete output from command \"c:\\users\\sai krishna\\anaconda\\python.exe\" -u -c \"import setuptools, tokenize;__file__='C:\\\\Users\\\\SAIKRI~1\\\\AppData\\\\Local\\\\Temp\\\\pip-build-tam_csz8\\\\hunspell\\\\setup.py';f=getattr(tokenize, 'open', open)(__file__);code=f.read().replace('\\r\\n', '\\n');f.close();exec(compile(code, __file__, 'exec'))\" bdist_wheel -d C:\\Users\\SAIKRI~1\\AppData\\Local\\Temp\\tmpityt62_5pip-wheel- --python-tag cp37:\n",
      "  running bdist_wheel\n",
      "  running build\n",
      "  running build_ext\n",
      "  building 'hunspell' extension\n",
      "  creating build\n",
      "  creating build\\temp.win-amd64-3.7\n",
      "  creating build\\temp.win-amd64-3.7\\Release\n",
      "  C:\\Program Files (x86)\\Microsoft Visual Studio\\2017\\Community\\VC\\Tools\\MSVC\\14.15.26726\\bin\\HostX86\\x64\\cl.exe /c /nologo /Ox /W3 /GL /DNDEBUG /MD -DHUNSPELL_STATIC -IV:/hunspell-1.3.3/src/hunspell \"-Ic:\\users\\sai krishna\\anaconda\\include\" \"-Ic:\\users\\sai krishna\\anaconda\\include\" \"-IC:\\Program Files (x86)\\Microsoft Visual Studio\\2017\\Community\\VC\\Tools\\MSVC\\14.15.26726\\ATLMFC\\include\" \"-IC:\\Program Files (x86)\\Microsoft Visual Studio\\2017\\Community\\VC\\Tools\\MSVC\\14.15.26726\\include\" \"-IC:\\Program Files (x86)\\Windows Kits\\10\\include\\10.0.17134.0\\ucrt\" \"-IC:\\Program Files (x86)\\Windows Kits\\10\\include\\10.0.17134.0\\shared\" \"-IC:\\Program Files (x86)\\Windows Kits\\10\\include\\10.0.17134.0\\um\" \"-IC:\\Program Files (x86)\\Windows Kits\\10\\include\\10.0.17134.0\\winrt\" \"-IC:\\Program Files (x86)\\Windows Kits\\10\\include\\10.0.17134.0\\cppwinrt\" /EHsc /Tphunspell.cpp /Fobuild\\temp.win-amd64-3.7\\Release\\hunspell.obj /MT\n",
      "  cl : Command line warning D9025 : overriding '/MD' with '/MT'\n",
      "  hunspell.cpp\n",
      "  hunspell.cpp(20): fatal error C1083: Cannot open include file: 'hunspell.hxx': No such file or directory\n",
      "  error: command 'C:\\\\Program Files (x86)\\\\Microsoft Visual Studio\\\\2017\\\\Community\\\\VC\\\\Tools\\\\MSVC\\\\14.15.26726\\\\bin\\\\HostX86\\\\x64\\\\cl.exe' failed with exit status 2\n",
      "  \n",
      "  ----------------------------------------\n",
      "  Running setup.py clean for hunspell\n",
      "Failed to build hunspell\n",
      "Installing collected packages: hunspell\n",
      "  Running setup.py install for hunspell: started\n",
      "    Running setup.py install for hunspell: finished with status 'error'\n",
      "    Complete output from command \"c:\\users\\sai krishna\\anaconda\\python.exe\" -u -c \"import setuptools, tokenize;__file__='C:\\\\Users\\\\SAIKRI~1\\\\AppData\\\\Local\\\\Temp\\\\pip-build-tam_csz8\\\\hunspell\\\\setup.py';f=getattr(tokenize, 'open', open)(__file__);code=f.read().replace('\\r\\n', '\\n');f.close();exec(compile(code, __file__, 'exec'))\" install --record C:\\Users\\SAIKRI~1\\AppData\\Local\\Temp\\pip-53wyokja-record\\install-record.txt --single-version-externally-managed --compile:\n",
      "    running install\n",
      "    running build\n",
      "    running build_ext\n",
      "    building 'hunspell' extension\n",
      "    creating build\n",
      "    creating build\\temp.win-amd64-3.7\n",
      "    creating build\\temp.win-amd64-3.7\\Release\n",
      "    C:\\Program Files (x86)\\Microsoft Visual Studio\\2017\\Community\\VC\\Tools\\MSVC\\14.15.26726\\bin\\HostX86\\x64\\cl.exe /c /nologo /Ox /W3 /GL /DNDEBUG /MD -DHUNSPELL_STATIC -IV:/hunspell-1.3.3/src/hunspell \"-Ic:\\users\\sai krishna\\anaconda\\include\" \"-Ic:\\users\\sai krishna\\anaconda\\include\" \"-IC:\\Program Files (x86)\\Microsoft Visual Studio\\2017\\Community\\VC\\Tools\\MSVC\\14.15.26726\\ATLMFC\\include\" \"-IC:\\Program Files (x86)\\Microsoft Visual Studio\\2017\\Community\\VC\\Tools\\MSVC\\14.15.26726\\include\" \"-IC:\\Program Files (x86)\\Windows Kits\\10\\include\\10.0.17134.0\\ucrt\" \"-IC:\\Program Files (x86)\\Windows Kits\\10\\include\\10.0.17134.0\\shared\" \"-IC:\\Program Files (x86)\\Windows Kits\\10\\include\\10.0.17134.0\\um\" \"-IC:\\Program Files (x86)\\Windows Kits\\10\\include\\10.0.17134.0\\winrt\" \"-IC:\\Program Files (x86)\\Windows Kits\\10\\include\\10.0.17134.0\\cppwinrt\" /EHsc /Tphunspell.cpp /Fobuild\\temp.win-amd64-3.7\\Release\\hunspell.obj /MT\n",
      "    cl : Command line warning D9025 : overriding '/MD' with '/MT'\n",
      "    hunspell.cpp\n",
      "    hunspell.cpp(20): fatal error C1083: Cannot open include file: 'hunspell.hxx': No such file or directory\n",
      "    error: command 'C:\\\\Program Files (x86)\\\\Microsoft Visual Studio\\\\2017\\\\Community\\\\VC\\\\Tools\\\\MSVC\\\\14.15.26726\\\\bin\\\\HostX86\\\\x64\\\\cl.exe' failed with exit status 2\n",
      "    \n",
      "    ----------------------------------------\n"
     ]
    },
    {
     "name": "stderr",
     "output_type": "stream",
     "text": [
      "  Failed building wheel for hunspell\n",
      "Command \"\"c:\\users\\sai krishna\\anaconda\\python.exe\" -u -c \"import setuptools, tokenize;__file__='C:\\\\Users\\\\SAIKRI~1\\\\AppData\\\\Local\\\\Temp\\\\pip-build-tam_csz8\\\\hunspell\\\\setup.py';f=getattr(tokenize, 'open', open)(__file__);code=f.read().replace('\\r\\n', '\\n');f.close();exec(compile(code, __file__, 'exec'))\" install --record C:\\Users\\SAIKRI~1\\AppData\\Local\\Temp\\pip-53wyokja-record\\install-record.txt --single-version-externally-managed --compile\" failed with error code 1 in C:\\Users\\SAIKRI~1\\AppData\\Local\\Temp\\pip-build-tam_csz8\\hunspell\\\n",
      "You are using pip version 9.0.0, however version 19.3.1 is available.\n",
      "You should consider upgrading via the 'python -m pip install --upgrade pip' command.\n"
     ]
    }
   ],
   "source": [
    "!pip install hunspell"
   ]
  },
  {
   "cell_type": "code",
   "execution_count": 7,
   "metadata": {},
   "outputs": [
    {
     "name": "stdout",
     "output_type": "stream",
     "text": [
      "Collecting spacy_hunspell\n",
      "Requirement already satisfied: spacy>=2.0.0 in c:\\users\\sai krishna\\anaconda\\lib\\site-packages (from spacy_hunspell)\n",
      "Collecting hunspell==0.5.0 (from spacy_hunspell)\n",
      "  Using cached https://files.pythonhosted.org/packages/2d/77/8c68d28afca3b07d3b89d3c60af56e1a3e5f381ddd1bc01f31e97233a03c/hunspell-0.5.0.tar.gz\n",
      "Requirement already satisfied: wasabi<1.1.0,>=0.2.0 in c:\\users\\sai krishna\\anaconda\\lib\\site-packages (from spacy>=2.0.0->spacy_hunspell)\n",
      "Requirement already satisfied: srsly<1.1.0,>=0.0.5 in c:\\users\\sai krishna\\anaconda\\lib\\site-packages (from spacy>=2.0.0->spacy_hunspell)\n",
      "Requirement already satisfied: murmurhash<1.1.0,>=0.28.0 in c:\\users\\sai krishna\\anaconda\\lib\\site-packages (from spacy>=2.0.0->spacy_hunspell)\n",
      "Requirement already satisfied: cymem<2.1.0,>=2.0.2 in c:\\users\\sai krishna\\anaconda\\lib\\site-packages (from spacy>=2.0.0->spacy_hunspell)\n",
      "Requirement already satisfied: thinc<7.1.0,>=7.0.2 in c:\\users\\sai krishna\\anaconda\\lib\\site-packages (from spacy>=2.0.0->spacy_hunspell)\n",
      "Requirement already satisfied: numpy>=1.15.0 in c:\\users\\sai krishna\\anaconda\\lib\\site-packages (from spacy>=2.0.0->spacy_hunspell)\n",
      "Requirement already satisfied: plac<1.0.0,>=0.9.6 in c:\\users\\sai krishna\\anaconda\\lib\\site-packages (from spacy>=2.0.0->spacy_hunspell)\n",
      "Requirement already satisfied: blis<0.3.0,>=0.2.2 in c:\\users\\sai krishna\\anaconda\\lib\\site-packages (from spacy>=2.0.0->spacy_hunspell)\n",
      "Requirement already satisfied: requests<3.0.0,>=2.13.0 in c:\\users\\sai krishna\\anaconda\\lib\\site-packages (from spacy>=2.0.0->spacy_hunspell)\n",
      "Requirement already satisfied: preshed<2.1.0,>=2.0.1 in c:\\users\\sai krishna\\anaconda\\lib\\site-packages (from spacy>=2.0.0->spacy_hunspell)\n",
      "Requirement already satisfied: jsonschema<3.1.0,>=2.6.0 in c:\\users\\sai krishna\\anaconda\\lib\\site-packages (from spacy>=2.0.0->spacy_hunspell)\n",
      "Requirement already satisfied: tqdm<5.0.0,>=4.10.0 in c:\\users\\sai krishna\\anaconda\\lib\\site-packages (from thinc<7.1.0,>=7.0.2->spacy>=2.0.0->spacy_hunspell)\n",
      "Requirement already satisfied: certifi>=2017.4.17 in c:\\users\\sai krishna\\anaconda\\lib\\site-packages (from requests<3.0.0,>=2.13.0->spacy>=2.0.0->spacy_hunspell)\n",
      "Requirement already satisfied: chardet<3.1.0,>=3.0.2 in c:\\users\\sai krishna\\anaconda\\lib\\site-packages (from requests<3.0.0,>=2.13.0->spacy>=2.0.0->spacy_hunspell)\n",
      "Requirement already satisfied: idna<2.9,>=2.5 in c:\\users\\sai krishna\\anaconda\\lib\\site-packages (from requests<3.0.0,>=2.13.0->spacy>=2.0.0->spacy_hunspell)\n",
      "Requirement already satisfied: urllib3<1.25,>=1.21.1 in c:\\users\\sai krishna\\anaconda\\lib\\site-packages (from requests<3.0.0,>=2.13.0->spacy>=2.0.0->spacy_hunspell)\n",
      "Requirement already satisfied: attrs>=17.4.0 in c:\\users\\sai krishna\\anaconda\\lib\\site-packages (from jsonschema<3.1.0,>=2.6.0->spacy>=2.0.0->spacy_hunspell)\n",
      "Requirement already satisfied: pyrsistent>=0.14.0 in c:\\users\\sai krishna\\anaconda\\lib\\site-packages (from jsonschema<3.1.0,>=2.6.0->spacy>=2.0.0->spacy_hunspell)\n",
      "Requirement already satisfied: setuptools in c:\\users\\sai krishna\\anaconda\\lib\\site-packages (from jsonschema<3.1.0,>=2.6.0->spacy>=2.0.0->spacy_hunspell)\n",
      "Requirement already satisfied: six>=1.11.0 in c:\\users\\sai krishna\\anaconda\\lib\\site-packages (from jsonschema<3.1.0,>=2.6.0->spacy>=2.0.0->spacy_hunspell)\n",
      "Building wheels for collected packages: hunspell\n",
      "  Running setup.py bdist_wheel for hunspell: started\n",
      "  Running setup.py bdist_wheel for hunspell: finished with status 'error'\n",
      "  Complete output from command \"c:\\users\\sai krishna\\anaconda\\python.exe\" -u -c \"import setuptools, tokenize;__file__='C:\\\\Users\\\\SAIKRI~1\\\\AppData\\\\Local\\\\Temp\\\\pip-build-59x_hwhf\\\\hunspell\\\\setup.py';f=getattr(tokenize, 'open', open)(__file__);code=f.read().replace('\\r\\n', '\\n');f.close();exec(compile(code, __file__, 'exec'))\" bdist_wheel -d C:\\Users\\SAIKRI~1\\AppData\\Local\\Temp\\tmpybz6fh3cpip-wheel- --python-tag cp37:\n",
      "  c:\\users\\sai krishna\\anaconda\\lib\\distutils\\extension.py:131: UserWarning: Unknown Extension options: 'compile_args', 'macros'\n",
      "    warnings.warn(msg)\n",
      "  running bdist_wheel\n",
      "  running build\n",
      "  running build_ext\n",
      "  building 'hunspell' extension\n",
      "  creating build\n",
      "  creating build\\temp.win-amd64-3.7\n",
      "  creating build\\temp.win-amd64-3.7\\Release\n",
      "  C:\\Program Files (x86)\\Microsoft Visual Studio\\2017\\Community\\VC\\Tools\\MSVC\\14.15.26726\\bin\\HostX86\\x64\\cl.exe /c /nologo /Ox /W3 /GL /DNDEBUG /MD -IV:/hunspell-1.3.3/src/hunspell \"-Ic:\\users\\sai krishna\\anaconda\\include\" \"-Ic:\\users\\sai krishna\\anaconda\\include\" \"-IC:\\Program Files (x86)\\Microsoft Visual Studio\\2017\\Community\\VC\\Tools\\MSVC\\14.15.26726\\ATLMFC\\include\" \"-IC:\\Program Files (x86)\\Microsoft Visual Studio\\2017\\Community\\VC\\Tools\\MSVC\\14.15.26726\\include\" \"-IC:\\Program Files (x86)\\Windows Kits\\10\\include\\10.0.17134.0\\ucrt\" \"-IC:\\Program Files (x86)\\Windows Kits\\10\\include\\10.0.17134.0\\shared\" \"-IC:\\Program Files (x86)\\Windows Kits\\10\\include\\10.0.17134.0\\um\" \"-IC:\\Program Files (x86)\\Windows Kits\\10\\include\\10.0.17134.0\\winrt\" \"-IC:\\Program Files (x86)\\Windows Kits\\10\\include\\10.0.17134.0\\cppwinrt\" /EHsc /Tphunspell.cpp /Fobuild\\temp.win-amd64-3.7\\Release\\hunspell.obj\n",
      "  hunspell.cpp\n",
      "  hunspell.cpp(20): fatal error C1083: Cannot open include file: 'hunspell.hxx': No such file or directory\n",
      "  error: command 'C:\\\\Program Files (x86)\\\\Microsoft Visual Studio\\\\2017\\\\Community\\\\VC\\\\Tools\\\\MSVC\\\\14.15.26726\\\\bin\\\\HostX86\\\\x64\\\\cl.exe' failed with exit status 2\n",
      "  \n",
      "  ----------------------------------------\n",
      "  Running setup.py clean for hunspell\n",
      "Failed to build hunspell\n",
      "Installing collected packages: hunspell, spacy-hunspell\n",
      "  Running setup.py install for hunspell: started\n",
      "    Running setup.py install for hunspell: finished with status 'error'\n",
      "    Complete output from command \"c:\\users\\sai krishna\\anaconda\\python.exe\" -u -c \"import setuptools, tokenize;__file__='C:\\\\Users\\\\SAIKRI~1\\\\AppData\\\\Local\\\\Temp\\\\pip-build-59x_hwhf\\\\hunspell\\\\setup.py';f=getattr(tokenize, 'open', open)(__file__);code=f.read().replace('\\r\\n', '\\n');f.close();exec(compile(code, __file__, 'exec'))\" install --record C:\\Users\\SAIKRI~1\\AppData\\Local\\Temp\\pip-4zwjurgg-record\\install-record.txt --single-version-externally-managed --compile:\n",
      "    c:\\users\\sai krishna\\anaconda\\lib\\distutils\\extension.py:131: UserWarning: Unknown Extension options: 'compile_args', 'macros'\n",
      "      warnings.warn(msg)\n",
      "    running install\n",
      "    running build\n",
      "    running build_ext\n",
      "    building 'hunspell' extension\n",
      "    creating build\n",
      "    creating build\\temp.win-amd64-3.7\n",
      "    creating build\\temp.win-amd64-3.7\\Release\n",
      "    C:\\Program Files (x86)\\Microsoft Visual Studio\\2017\\Community\\VC\\Tools\\MSVC\\14.15.26726\\bin\\HostX86\\x64\\cl.exe /c /nologo /Ox /W3 /GL /DNDEBUG /MD -IV:/hunspell-1.3.3/src/hunspell \"-Ic:\\users\\sai krishna\\anaconda\\include\" \"-Ic:\\users\\sai krishna\\anaconda\\include\" \"-IC:\\Program Files (x86)\\Microsoft Visual Studio\\2017\\Community\\VC\\Tools\\MSVC\\14.15.26726\\ATLMFC\\include\" \"-IC:\\Program Files (x86)\\Microsoft Visual Studio\\2017\\Community\\VC\\Tools\\MSVC\\14.15.26726\\include\" \"-IC:\\Program Files (x86)\\Windows Kits\\10\\include\\10.0.17134.0\\ucrt\" \"-IC:\\Program Files (x86)\\Windows Kits\\10\\include\\10.0.17134.0\\shared\" \"-IC:\\Program Files (x86)\\Windows Kits\\10\\include\\10.0.17134.0\\um\" \"-IC:\\Program Files (x86)\\Windows Kits\\10\\include\\10.0.17134.0\\winrt\" \"-IC:\\Program Files (x86)\\Windows Kits\\10\\include\\10.0.17134.0\\cppwinrt\" /EHsc /Tphunspell.cpp /Fobuild\\temp.win-amd64-3.7\\Release\\hunspell.obj\n",
      "    hunspell.cpp\n",
      "    hunspell.cpp(20): fatal error C1083: Cannot open include file: 'hunspell.hxx': No such file or directory\n",
      "    error: command 'C:\\\\Program Files (x86)\\\\Microsoft Visual Studio\\\\2017\\\\Community\\\\VC\\\\Tools\\\\MSVC\\\\14.15.26726\\\\bin\\\\HostX86\\\\x64\\\\cl.exe' failed with exit status 2\n",
      "    \n",
      "    ----------------------------------------\n"
     ]
    },
    {
     "name": "stderr",
     "output_type": "stream",
     "text": [
      "  Failed building wheel for hunspell\n",
      "Command \"\"c:\\users\\sai krishna\\anaconda\\python.exe\" -u -c \"import setuptools, tokenize;__file__='C:\\\\Users\\\\SAIKRI~1\\\\AppData\\\\Local\\\\Temp\\\\pip-build-59x_hwhf\\\\hunspell\\\\setup.py';f=getattr(tokenize, 'open', open)(__file__);code=f.read().replace('\\r\\n', '\\n');f.close();exec(compile(code, __file__, 'exec'))\" install --record C:\\Users\\SAIKRI~1\\AppData\\Local\\Temp\\pip-4zwjurgg-record\\install-record.txt --single-version-externally-managed --compile\" failed with error code 1 in C:\\Users\\SAIKRI~1\\AppData\\Local\\Temp\\pip-build-59x_hwhf\\hunspell\\\n",
      "You are using pip version 9.0.0, however version 19.3.1 is available.\n",
      "You should consider upgrading via the 'python -m pip install --upgrade pip' command.\n"
     ]
    }
   ],
   "source": [
    "!pip install spacy_hunspell"
   ]
  },
  {
   "cell_type": "code",
   "execution_count": 8,
   "metadata": {},
   "outputs": [
    {
     "ename": "ModuleNotFoundError",
     "evalue": "No module named 'spacy_hunspell'",
     "output_type": "error",
     "traceback": [
      "\u001b[1;31m---------------------------------------------------------------------------\u001b[0m",
      "\u001b[1;31mModuleNotFoundError\u001b[0m                       Traceback (most recent call last)",
      "\u001b[1;32m<ipython-input-8-78490864a7a7>\u001b[0m in \u001b[0;36m<module>\u001b[1;34m\u001b[0m\n\u001b[0;32m      1\u001b[0m \u001b[1;32mimport\u001b[0m \u001b[0mspacy\u001b[0m\u001b[1;33m\u001b[0m\u001b[1;33m\u001b[0m\u001b[0m\n\u001b[1;32m----> 2\u001b[1;33m \u001b[1;32mfrom\u001b[0m \u001b[0mspacy_hunspell\u001b[0m \u001b[1;32mimport\u001b[0m \u001b[0mspaCyHunSpell\u001b[0m\u001b[1;33m\u001b[0m\u001b[1;33m\u001b[0m\u001b[0m\n\u001b[0m",
      "\u001b[1;31mModuleNotFoundError\u001b[0m: No module named 'spacy_hunspell'"
     ]
    }
   ],
   "source": [
    "import spacy\n",
    "from spacy_hunspell import spaCyHunSpell\n"
   ]
  },
  {
   "cell_type": "code",
   "execution_count": null,
   "metadata": {},
   "outputs": [],
   "source": []
  }
 ],
 "metadata": {
  "kernelspec": {
   "display_name": "Python 3",
   "language": "python",
   "name": "python3"
  },
  "language_info": {
   "codemirror_mode": {
    "name": "ipython",
    "version": 3
   },
   "file_extension": ".py",
   "mimetype": "text/x-python",
   "name": "python",
   "nbconvert_exporter": "python",
   "pygments_lexer": "ipython3",
   "version": "3.7.3"
  }
 },
 "nbformat": 4,
 "nbformat_minor": 2
}
